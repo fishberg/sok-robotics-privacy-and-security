{
 "cells": [
  {
   "cell_type": "code",
   "execution_count": null,
   "id": "bbd7e356-5312-40c8-aa3c-8c84a1b13fd6",
   "metadata": {},
   "outputs": [],
   "source": [
    "import dblpy as dblp # pip3 install dblpy-lib\n",
    "#get_authors, get_venues, get_publications\n",
    "\n",
    "import pandas as pd"
   ]
  },
  {
   "cell_type": "code",
   "execution_count": null,
   "id": "7cfe7dff-e284-4d1f-b5d7-4b115914b899",
   "metadata": {},
   "outputs": [],
   "source": [
    "QUERY = 'privacy robot'\n",
    "\n",
    "publications = dblp.get_publications(q=QUERY, max_results=5000)"
   ]
  },
  {
   "cell_type": "code",
   "execution_count": null,
   "id": "6b8c5089-767b-4624-b96c-c4a6496b7fdf",
   "metadata": {
    "scrolled": true
   },
   "outputs": [],
   "source": [
    "for p in publications:\n",
    "    print(p)"
   ]
  },
  {
   "cell_type": "code",
   "execution_count": null,
   "id": "1a1b52ea",
   "metadata": {},
   "outputs": [],
   "source": [
    "p.__dict__"
   ]
  },
  {
   "cell_type": "code",
   "execution_count": null,
   "id": "0c46de08-00ff-4772-b1a1-69b3b08d699f",
   "metadata": {},
   "outputs": [],
   "source": [
    "df = pd.DataFrame([publ.__dict__ for publ in publications])"
   ]
  },
  {
   "cell_type": "code",
   "execution_count": null,
   "id": "3cec29c6-8fe1-412e-90dc-5ea6e3c88be8",
   "metadata": {
    "scrolled": true
   },
   "outputs": [],
   "source": [
    "#print(df)\n",
    "#df.to_clipboard()\n",
    "#display(df.to_string())\n",
    "FILENAME = QUERY.replace(\" \", \"_\") + \".csv\"\n",
    "\n",
    "df.to_csv(FILENAME, index=False)"
   ]
  }
 ],
 "metadata": {
  "kernelspec": {
   "display_name": "base",
   "language": "python",
   "name": "python3"
  },
  "language_info": {
   "codemirror_mode": {
    "name": "ipython",
    "version": 3
   },
   "file_extension": ".py",
   "mimetype": "text/x-python",
   "name": "python",
   "nbconvert_exporter": "python",
   "pygments_lexer": "ipython3",
   "version": "3.12.9"
  }
 },
 "nbformat": 4,
 "nbformat_minor": 5
}
